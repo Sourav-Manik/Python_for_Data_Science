{
  "nbformat": 4,
  "nbformat_minor": 0,
  "metadata": {
    "kernelspec": {
      "display_name": "Python 3",
      "language": "python",
      "name": "python3"
    },
    "language_info": {
      "codemirror_mode": {
        "name": "ipython",
        "version": 3
      },
      "file_extension": ".py",
      "mimetype": "text/x-python",
      "name": "python",
      "nbconvert_exporter": "python",
      "pygments_lexer": "ipython3",
      "version": "3.7.4"
    },
    "colab": {
      "name": "Hypothesis Test.ipynb",
      "provenance": [],
      "collapsed_sections": [],
      "include_colab_link": true
    }
  },
  "cells": [
    {
      "cell_type": "markdown",
      "metadata": {
        "id": "view-in-github",
        "colab_type": "text"
      },
      "source": [
        "<a href=\"https://colab.research.google.com/github/Sourav-Manik/Python_for_Data_Science/blob/main/Hypothesis_Test.ipynb\" target=\"_parent\"><img src=\"https://colab.research.google.com/assets/colab-badge.svg\" alt=\"Open In Colab\"/></a>"
      ]
    },
    {
      "cell_type": "code",
      "metadata": {
        "id": "kcl6v094iyDd"
      },
      "source": [
        "#import the libraries\n",
        "import pandas as pd\n",
        "import scipy \n",
        "import numpy as np\n",
        "from scipy import stats"
      ],
      "execution_count": 35,
      "outputs": []
    },
    {
      "cell_type": "markdown",
      "metadata": {
        "id": "59uIW3jmiyDp"
      },
      "source": [
        "# Call Center example"
      ]
    },
    {
      "cell_type": "code",
      "metadata": {
        "id": "nVFYV7wtiyDq",
        "colab": {
          "base_uri": "https://localhost:8080/"
        },
        "outputId": "6050eef1-c3b8-41a8-a10d-9a5c3cffd943"
      },
      "source": [
        "Ho = 4\n",
        "Ha =! 4 \n",
        "\n",
        "Mean = 4\n",
        "Std_deviation = 3\n",
        "Sample_Size = 50\n",
        "Sample_Mean = 4.6\n",
        "df = Sample_Size-1\n",
        "\n",
        "t_value = (Mean-Sample_Mean)/(Std_deviation/np.sqrt(Sample_Size))\n",
        "print ('t_value',t_value)"
      ],
      "execution_count": 10,
      "outputs": [
        {
          "output_type": "stream",
          "name": "stdout",
          "text": [
            "t_value -1.4142135623730943\n"
          ]
        }
      ]
    },
    {
      "cell_type": "code",
      "metadata": {
        "id": "lxCcK2EOiyDr",
        "colab": {
          "base_uri": "https://localhost:8080/"
        },
        "outputId": "b79ffbff-4528-468a-c309-481b07fa2d6e"
      },
      "source": [
        "p_value =2*stats.t.cdf(t_value ,df)\n",
        "print ('p_value', p_value)"
      ],
      "execution_count": 8,
      "outputs": [
        {
          "output_type": "stream",
          "name": "stdout",
          "text": [
            "p_value 0.16362201811838478\n"
          ]
        }
      ]
    },
    {
      "cell_type": "code",
      "metadata": {
        "id": "x3IGjKK7iyDs",
        "colab": {
          "base_uri": "https://localhost:8080/"
        },
        "outputId": "c99defc1-cd71-4db4-f972-1dd298eed01a"
      },
      "source": [
        "p/2"
      ],
      "execution_count": 21,
      "outputs": [
        {
          "output_type": "execute_result",
          "data": {
            "text/plain": [
              "0.029265164842448826"
            ]
          },
          "metadata": {},
          "execution_count": 21
        }
      ]
    },
    {
      "cell_type": "markdown",
      "metadata": {
        "id": "9ZB7tFnHiyDu"
      },
      "source": [
        "# One tail test"
      ]
    },
    {
      "cell_type": "code",
      "metadata": {
        "id": "XEwh4swYe-bj"
      },
      "source": [
        "#Ho : u <= 0.3\n",
        "#Ha : u > 0.3\n",
        "alpha = 0.05"
      ],
      "execution_count": 17,
      "outputs": []
    },
    {
      "cell_type": "code",
      "metadata": {
        "id": "bGtP2qytiyDv"
      },
      "source": [
        "data=pd.Series([0.593, 0.142, 0.329, 0.691, 0.231, 0.793, 0.519, 0.392, 0.418])"
      ],
      "execution_count": 18,
      "outputs": []
    },
    {
      "cell_type": "code",
      "metadata": {
        "id": "GZ0_Nhe6iyDx",
        "colab": {
          "base_uri": "https://localhost:8080/"
        },
        "outputId": "c34e7200-afe7-4aed-f1b4-2f08ad9118ae"
      },
      "source": [
        "#This gives two tail test p value so divide by 2 to get final p-value\n",
        "p=scipy.stats.ttest_1samp(data,0.3)[1]\n",
        "p_value= p/2\n",
        "print ('p_value',p_value)"
      ],
      "execution_count": 19,
      "outputs": [
        {
          "output_type": "stream",
          "name": "stdout",
          "text": [
            "p_value 0.029265164842448826\n"
          ]
        }
      ]
    },
    {
      "cell_type": "code",
      "metadata": {
        "colab": {
          "base_uri": "https://localhost:8080/"
        },
        "id": "7AAnIt61fLXa",
        "outputId": "99527643-46ed-4699-e5f8-ead5901cffa9"
      },
      "source": [
        "if p_value < alpha:\n",
        "  print(\"Reject Null Ho\")\n",
        "else:\n",
        "  print(\"Fail to reject Ho\")\n"
      ],
      "execution_count": 28,
      "outputs": [
        {
          "output_type": "stream",
          "name": "stdout",
          "text": [
            "Reject Null Ho\n"
          ]
        }
      ]
    },
    {
      "cell_type": "markdown",
      "metadata": {
        "id": "nHWE4e1IiyDz"
      },
      "source": [
        "# Two Tail test"
      ]
    },
    {
      "cell_type": "code",
      "metadata": {
        "id": "N1aK4-zYg4Xl"
      },
      "source": [
        "# Ho : Mu1 - Mu2 = 0\n",
        "# Ha : Mu1 - Mu2 != 0\n",
        "alpha = 0.05"
      ],
      "execution_count": 26,
      "outputs": []
    },
    {
      "cell_type": "code",
      "metadata": {
        "id": "q-rhLwAYiyD0"
      },
      "source": [
        "Control=pd.Series([91, 87, 99, 77, 88, 91])\n",
        "Treat =pd.Series([101, 110, 103, 93, 99, 104])  "
      ],
      "execution_count": 23,
      "outputs": []
    },
    {
      "cell_type": "code",
      "metadata": {
        "id": "pH2t61x9iyD1",
        "colab": {
          "base_uri": "https://localhost:8080/"
        },
        "outputId": "c9b2bd7b-befb-4624-b10c-06ce1862ee5e"
      },
      "source": [
        "stats.ttest_ind(Control,Treat)"
      ],
      "execution_count": 25,
      "outputs": [
        {
          "output_type": "execute_result",
          "data": {
            "text/plain": [
              "Ttest_indResult(statistic=-3.445612673536487, pvalue=0.006272124350809803)"
            ]
          },
          "metadata": {},
          "execution_count": 25
        }
      ]
    },
    {
      "cell_type": "code",
      "metadata": {
        "id": "ub3y9M3MhX20"
      },
      "source": [
        "#alpha > pvalue = Reject Null Ho"
      ],
      "execution_count": null,
      "outputs": []
    },
    {
      "cell_type": "markdown",
      "metadata": {
        "id": "KdzC13qciyD2"
      },
      "source": [
        "# 2 Proportion Test"
      ]
    },
    {
      "cell_type": "code",
      "metadata": {
        "id": "pkJB2eSViyD3"
      },
      "source": [
        "import numpy as np"
      ],
      "execution_count": 29,
      "outputs": []
    },
    {
      "cell_type": "code",
      "metadata": {
        "id": "zKdN3qLViyD3"
      },
      "source": [
        "#Data:\n",
        "\n",
        "n1 = 247\n",
        "p1 = .37\n",
        "\n",
        "n2 = 308\n",
        "p2 = .39"
      ],
      "execution_count": 30,
      "outputs": []
    },
    {
      "cell_type": "code",
      "metadata": {
        "id": "m0vUkUkJiyD4"
      },
      "source": [
        "population1 = np.random.binomial(1, p1, n1)\n",
        "population2 = np.random.binomial(1, p2, n2)"
      ],
      "execution_count": 31,
      "outputs": []
    },
    {
      "cell_type": "code",
      "metadata": {
        "id": "R3keUyHciyD5",
        "colab": {
          "base_uri": "https://localhost:8080/"
        },
        "outputId": "c26558c4-870a-4725-a3b4-4f9894b86b29"
      },
      "source": [
        "population1.mean()"
      ],
      "execution_count": 32,
      "outputs": [
        {
          "output_type": "execute_result",
          "data": {
            "text/plain": [
              "0.38461538461538464"
            ]
          },
          "metadata": {},
          "execution_count": 32
        }
      ]
    },
    {
      "cell_type": "code",
      "metadata": {
        "id": "RycAB0BDiyD6",
        "colab": {
          "base_uri": "https://localhost:8080/"
        },
        "outputId": "2afeda3a-3fab-4026-a437-50cc213d52cc"
      },
      "source": [
        "population2"
      ],
      "execution_count": 33,
      "outputs": [
        {
          "output_type": "execute_result",
          "data": {
            "text/plain": [
              "array([0, 0, 0, 0, 0, 0, 0, 0, 1, 1, 1, 1, 1, 0, 0, 1, 1, 1, 1, 0, 1, 0,\n",
              "       0, 1, 1, 0, 0, 0, 0, 0, 0, 1, 0, 0, 1, 0, 0, 1, 1, 0, 1, 1, 0, 1,\n",
              "       0, 1, 0, 0, 0, 0, 1, 0, 0, 1, 0, 0, 0, 0, 0, 0, 0, 0, 0, 1, 0, 0,\n",
              "       0, 1, 0, 1, 0, 0, 1, 0, 1, 0, 1, 0, 1, 1, 1, 0, 0, 0, 0, 0, 0, 0,\n",
              "       0, 0, 1, 0, 0, 0, 0, 0, 1, 0, 0, 1, 0, 0, 0, 0, 0, 0, 0, 1, 0, 0,\n",
              "       0, 1, 1, 1, 0, 0, 1, 1, 0, 0, 1, 0, 0, 0, 0, 0, 0, 0, 0, 0, 0, 0,\n",
              "       0, 1, 0, 0, 1, 1, 0, 1, 1, 0, 0, 0, 0, 0, 1, 0, 1, 1, 1, 0, 0, 1,\n",
              "       1, 0, 1, 0, 0, 0, 0, 0, 0, 0, 0, 0, 1, 0, 0, 1, 0, 0, 1, 0, 1, 1,\n",
              "       1, 1, 0, 1, 0, 1, 1, 0, 1, 0, 0, 1, 0, 1, 1, 0, 0, 0, 1, 0, 1, 0,\n",
              "       0, 0, 1, 1, 1, 1, 0, 1, 1, 1, 0, 0, 1, 1, 1, 0, 1, 1, 0, 1, 0, 0,\n",
              "       0, 1, 0, 0, 0, 0, 0, 1, 0, 0, 0, 0, 0, 0, 1, 0, 0, 1, 0, 0, 0, 1,\n",
              "       1, 0, 0, 1, 1, 1, 1, 1, 0, 1, 0, 1, 1, 1, 0, 0, 0, 0, 0, 1, 0, 0,\n",
              "       0, 0, 0, 0, 0, 0, 1, 0, 0, 0, 0, 0, 0, 1, 1, 0, 0, 0, 0, 1, 0, 0,\n",
              "       0, 0, 1, 0, 0, 0, 0, 0, 0, 0, 1, 0, 1, 0, 0, 0, 1, 0, 0, 0, 0, 1])"
            ]
          },
          "metadata": {},
          "execution_count": 33
        }
      ]
    },
    {
      "cell_type": "code",
      "metadata": {
        "id": "GD0fNzmaiyD7",
        "colab": {
          "base_uri": "https://localhost:8080/"
        },
        "outputId": "4a2a535f-06da-40db-f8b6-3bd525b47e0d"
      },
      "source": [
        "import statsmodels.api as sm\n",
        "sm.stats.ttest_ind(population1, population2)"
      ],
      "execution_count": 34,
      "outputs": [
        {
          "output_type": "stream",
          "name": "stderr",
          "text": [
            "/usr/local/lib/python3.7/dist-packages/statsmodels/tools/_testing.py:19: FutureWarning: pandas.util.testing is deprecated. Use the functions in the public API at pandas.testing instead.\n",
            "  import pandas.util.testing as tm\n"
          ]
        },
        {
          "output_type": "execute_result",
          "data": {
            "text/plain": [
              "(0.9045584169601145, 0.3660932692055312, 553.0)"
            ]
          },
          "metadata": {},
          "execution_count": 34
        }
      ]
    },
    {
      "cell_type": "code",
      "metadata": {
        "id": "-4ipK_HDiyD8"
      },
      "source": [
        "# p_value - 0.36 > Alpha -  0.05\n",
        "# Fail to reject Null Hypothesis"
      ],
      "execution_count": null,
      "outputs": []
    }
  ]
}